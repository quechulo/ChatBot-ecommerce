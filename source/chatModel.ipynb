{
 "cells": [
  {
   "cell_type": "code",
   "execution_count": 1,
   "metadata": {
    "collapsed": true
   },
   "outputs": [],
   "source": [
    "import torch\n",
    "from transformers import pipeline"
   ]
  },
  {
   "cell_type": "code",
   "execution_count": 2,
   "outputs": [
    {
     "name": "stdout",
     "output_type": "stream",
     "text": [
      "Device: cuda:0\n"
     ]
    }
   ],
   "source": [
    "device = torch.device(\"cuda:0\") if torch.cuda.is_available() else torch.device(\"cpu\")\n",
    "print(\"Device:\", device)"
   ],
   "metadata": {
    "collapsed": false
   }
  },
  {
   "cell_type": "code",
   "execution_count": 3,
   "outputs": [],
   "source": [
    "## Execute only if 'bert-base-multi' is not in working directory\n",
    "# qa_pipeline = pipeline(\n",
    "#         \"question-answering\",\n",
    "#         model=\"henryk/bert-base-multilingual-cased-finetuned-polish-squad2\",\n",
    "#         tokenizer=\"henryk/bert-base-multilingual-cased-finetuned-polish-squad2\"\n",
    "#     )"
   ],
   "metadata": {
    "collapsed": false
   }
  },
  {
   "cell_type": "markdown",
   "source": [
    "## Saving model to file"
   ],
   "metadata": {
    "collapsed": false
   }
  },
  {
   "cell_type": "code",
   "execution_count": 4,
   "outputs": [],
   "source": [
    "## Execute only if 'bert-base-multi' is not in working directory\n",
    "# torch.save(qa_pipeline, 'bert-base-multi')"
   ],
   "metadata": {
    "collapsed": false
   }
  },
  {
   "cell_type": "code",
   "execution_count": 5,
   "outputs": [],
   "source": [
    "qa_pipeline = torch.load('bert-base-multi')"
   ],
   "metadata": {
    "collapsed": false
   }
  },
  {
   "cell_type": "code",
   "execution_count": 33,
   "outputs": [
    {
     "data": {
      "text/plain": "{'score': 0.998785138130188, 'start': 0, 'end': 8, 'answer': 'Warszawa'}"
     },
     "execution_count": 33,
     "metadata": {},
     "output_type": "execute_result"
    }
   ],
   "source": [
    "qa_pipeline({\n",
    "        'context': \"Warszawa jest największym miastem w Polsce pod względem liczby ludności i powierzchni\",\n",
    "        'question': \"Jakie jest największe miasto w Polsce?\"})"
   ],
   "metadata": {
    "collapsed": false
   }
  },
  {
   "cell_type": "code",
   "execution_count": 7,
   "outputs": [],
   "source": [
    "def getAnswer(context, query, onlyAns=True):\n",
    "    result = qa_pipeline({\n",
    "        'context': context,\n",
    "        'question': query\n",
    "    })\n",
    "    if onlyAns:\n",
    "        return result['answer']\n",
    "    else:\n",
    "        return result"
   ],
   "metadata": {
    "collapsed": false
   }
  },
  {
   "cell_type": "code",
   "execution_count": 34,
   "outputs": [
    {
     "name": "stdout",
     "output_type": "stream",
     "text": [
      "Witamy w naszym sklepie Trendylook XD. W naszej ofercie posiadamy wiele markowych butów i ubrań. Oferujemy najlepsze ceny i darmowe zwroty do 14-dni. Białe buty adidas. Cena 249 PLN. Dostawa gratis od 200 PLN. Czerwone botki skórzane. Cena 339 PLN. Dostawa gratis od 200 PLN. Czarne buty nike. Cena 249 PLN. Dostawa gratis od 200 PLN. Czerwone buty Reebook. Cena 249 PLN. Dostawa gratis od 200 PLN. Buty kozaki eleganckie skórzane. Cena 249 PLN. Dostawa gratis od 200 PLN.  \n"
     ]
    }
   ],
   "source": [
    "with open('sklep.txt', 'r', encoding=\"utf-8\") as file:\n",
    "    data = file.read().replace('\\n', ' ')\n",
    "print(data)"
   ],
   "metadata": {
    "collapsed": false
   }
  },
  {
   "cell_type": "code",
   "execution_count": 41,
   "outputs": [
    {
     "data": {
      "text/plain": "{'score': 0.46872636675834656, 'start': 53, 'end': 60, 'answer': 'Andrzej'}"
     },
     "execution_count": 41,
     "metadata": {},
     "output_type": "execute_result"
    }
   ],
   "source": [
    "getAnswer(\"ojciec Janka ma na imię Kuba, a tata Kuby nazywa się Andrzej.\", \"Jak nazywa się tata taty Janka?\", onlyAns=False)"
   ],
   "metadata": {
    "collapsed": false
   }
  },
  {
   "cell_type": "code",
   "execution_count": 35,
   "outputs": [
    {
     "data": {
      "text/plain": "{'score': 0.00603965949267149, 'start': 349, 'end': 356, 'answer': 'Reebook'}"
     },
     "execution_count": 35,
     "metadata": {},
     "output_type": "execute_result"
    }
   ],
   "source": [
    "getAnswer(context=data, query=\"czerwone buty?\", onlyAns=False)"
   ],
   "metadata": {
    "collapsed": false
   }
  },
  {
   "cell_type": "code",
   "execution_count": 40,
   "outputs": [
    {
     "data": {
      "text/plain": "{'score': 3.833120354101993e-05,\n 'start': 210,\n 'end': 233,\n 'answer': 'Czerwone botki skórzane'}"
     },
     "execution_count": 40,
     "metadata": {},
     "output_type": "execute_result"
    }
   ],
   "source": [
    "getAnswer(context=data, query=\"szukam czerwone botki\", onlyAns=False)"
   ],
   "metadata": {
    "collapsed": false
   }
  },
  {
   "cell_type": "code",
   "execution_count": 42,
   "outputs": [
    {
     "data": {
      "text/plain": "{'score': 0.008379863575100899, 'start': 240, 'end': 247, 'answer': '339 PLN'}"
     },
     "execution_count": 42,
     "metadata": {},
     "output_type": "execute_result"
    }
   ],
   "source": [
    "getAnswer(context=data, query=\"czerwone botki cena\", onlyAns=False)"
   ],
   "metadata": {
    "collapsed": false
   }
  },
  {
   "cell_type": "code",
   "execution_count": null,
   "outputs": [],
   "source": [],
   "metadata": {
    "collapsed": false
   }
  }
 ],
 "metadata": {
  "kernelspec": {
   "display_name": "Python 3",
   "language": "python",
   "name": "python3"
  },
  "language_info": {
   "codemirror_mode": {
    "name": "ipython",
    "version": 2
   },
   "file_extension": ".py",
   "mimetype": "text/x-python",
   "name": "python",
   "nbconvert_exporter": "python",
   "pygments_lexer": "ipython2",
   "version": "2.7.6"
  }
 },
 "nbformat": 4,
 "nbformat_minor": 0
}
