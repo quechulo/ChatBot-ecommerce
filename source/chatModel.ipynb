{
 "cells": [
  {
   "cell_type": "code",
   "execution_count": 1,
   "metadata": {
    "collapsed": true
   },
   "outputs": [],
   "source": [
    "import torch\n",
    "from transformers import pipeline"
   ]
  },
  {
   "cell_type": "code",
   "execution_count": 2,
   "outputs": [
    {
     "name": "stdout",
     "output_type": "stream",
     "text": [
      "Device: cuda:0\n"
     ]
    }
   ],
   "source": [
    "device = torch.device(\"cuda:0\") if torch.cuda.is_available() else torch.device(\"cpu\")\n",
    "print(\"Device:\", device)"
   ],
   "metadata": {
    "collapsed": false
   }
  },
  {
   "cell_type": "code",
   "execution_count": 3,
   "outputs": [],
   "source": [
    "## Execute only if 'bert-base-multi' is not in working directory\n",
    "# qa_pipeline = pipeline(\n",
    "#         \"question-answering\",\n",
    "#         model=\"henryk/bert-base-multilingual-cased-finetuned-polish-squad2\",\n",
    "#         tokenizer=\"henryk/bert-base-multilingual-cased-finetuned-polish-squad2\"\n",
    "#     )"
   ],
   "metadata": {
    "collapsed": false
   }
  },
  {
   "cell_type": "markdown",
   "source": [
    "## Saving model to file"
   ],
   "metadata": {
    "collapsed": false
   }
  },
  {
   "cell_type": "code",
   "execution_count": 4,
   "outputs": [],
   "source": [
    "## Execute only if 'bert-base-multi' is not in working directory\n",
    "# torch.save(qa_pipeline, 'bert-base-multi')"
   ],
   "metadata": {
    "collapsed": false
   }
  },
  {
   "cell_type": "code",
   "execution_count": 5,
   "outputs": [],
   "source": [
    "qa_pipeline = torch.load('bert-base-multi')"
   ],
   "metadata": {
    "collapsed": false
   }
  },
  {
   "cell_type": "code",
   "execution_count": 6,
   "outputs": [
    {
     "data": {
      "text/plain": "{'score': 0.998785138130188, 'start': 0, 'end': 8, 'answer': 'Warszawa'}"
     },
     "execution_count": 6,
     "metadata": {},
     "output_type": "execute_result"
    }
   ],
   "source": [
    "# qa_pipeline = pipeline(\n",
    "#         \"question-answering\",\n",
    "#         model=\"henryk/bert-base-multilingual-cased-finetuned-polish-squad2\",\n",
    "#         tokenizer=\"henryk/bert-base-multilingual-cased-finetuned-polish-squad2\"\n",
    "#     )\n",
    "qa_pipeline({\n",
    "        'context': \"Warszawa jest największym miastem w Polsce pod względem \\\n",
    "                   liczby ludności i powierzchni\",\n",
    "        'question': \"Jakie jest największe miasto w Polsce?\"})"
   ],
   "metadata": {
    "collapsed": false
   }
  },
  {
   "cell_type": "code",
   "execution_count": 7,
   "outputs": [],
   "source": [
    "def getAnswer(context, query, only_ans=True):\n",
    "    result = qa_pipeline({\n",
    "        'context': context,\n",
    "        'question': query\n",
    "    })\n",
    "    if only_ans:\n",
    "        return result['answer']\n",
    "    else:\n",
    "        return result"
   ],
   "metadata": {
    "collapsed": false
   }
  },
  {
   "cell_type": "code",
   "execution_count": 8,
   "outputs": [
    {
     "name": "stdout",
     "output_type": "stream",
     "text": [
      "Stolnik był wielkim panem z rodu Horeszków, o czym opowiada Gerwazy w II księdze. Jego jedynym dzieckiem była Ewa Horeszkówna, w której zakochał się Jacek Soplica. Do zaręczyn nie doszło z powodu różnicy majątkowej i wyraźnej niechęci ojca wobec tego związku; obawiając się rekuzy Soplica nie poprosił formalnie o rękę córki, zaś Horeszko przyjął swatów kasztelana witebskiego. Stolnik został zabity przez Soplicę w zamku podczas najazdu Moskali. Od tego momentu Gerwazy przysiągł sobie zemścić się na rodzie Sopliców.  Witamy w naszym sklepie Trendylook . W naszej ofercie posiadamy wiele markowych butów i ubrań. Oferujemy najlepsze ceny i darmowe zwroty do 14-dni. Białe buty adidas. Cena 249 PLN. Dostawa gratis od 200 PLN. Czerwone botki skórzane, damskie. Cena 339 PLN. Dostawa gratis od 200 PLN. Czarne buty nike. Cena 249 PLN. Dostawa gratis od 200 PLN. Czerwone buty Reebook. Cena 249 PLN. Dostawa gratis od 200 PLN dostawa darmowa od 200 PLN. Buty kozaki eleganckie skórzane. Cena 249 PLN. Dostawa gratis od 200 PLN.  Panno święta, co Jasnej bronisz Częstochowy I w Ostrej świecisz Bramie! Ty, co gród zamkowy Nowogródzki ochraniasz z jego wiernym ludem! Jak mnie dziecko do zdrowia powróciłaś cudem (Gdy od płaczącej matki, pod Twoją opiekę Ofiarowany, martwą podniosłem powiekę; I zaraz mogłem pieszo, do Twych świątyń progu Iść za wrócone życie podziękować Bogu), Tak nas powrócisz cudem na Ojczyzny łono. Tymczasem przenoś moją duszę utęsknioną Do tych pagórków leśnych, do tych łąk zielonych, Szeroko nad błękitnym Niemnem rozciągnionych; Do tych pól malowanych zbożem rozmaitem, Wyzłacanych pszenicą, posrebrzanych żytem; Gdzie bursztynowy świerzop, gryka jak śnieg biała, Gdzie panieńskim rumieńcem dzięcielina pała, \n"
     ]
    }
   ],
   "source": [
    "with open('sklep.txt', 'r', encoding=\"utf-8\") as file:\n",
    "    data = file.read().replace('\\n', ' ')\n",
    "print(data)"
   ],
   "metadata": {
    "collapsed": false
   }
  },
  {
   "cell_type": "code",
   "execution_count": 27,
   "outputs": [
    {
     "name": "stdout",
     "output_type": "stream",
     "text": [
      "2023-ORD-001 - Złożone - Kurtka zimowa, czapka zimowa, rękawiczki 2023-ORD-002 - W trakcie realizacji - T-shirt z nadrukiem, jeansy, trampki 2023-ORD-003 - Anulowane - Koszula w kratę, spodnie chino, pasek skórzany 2023-ORD-004 - Zakończone - Sweter z wełny, spodnie dresowe, buty sportowe 2023-ORD-005 - W trakcie realizacji - Bluza z kapturem, legginsy, sneakersy 2023-ORD-006 - Zakończone - Marynarka, koszula biała, spodnie garniturowe 2023-ORD-007 - Złożone - Kombinezon z dżinsu, klapki, plecak 2023-ORD-008 - Status: W trakcie realizacji / Przedmioty: Kurtka skórzana, t-shirt basic, spodnie jeansowe 2023-ORD-009 - Status: Zakończone / Przedmioty: Kamizelka sportowa, buty treningowe, spodnie dresowe 2023-ORD-010 - Anulowane - Sukienka w kwiaty, sandały, torebka skórzana 2023-ORD-011 - Złożone - Kurtka puchowa, szalik, rękawiczki 2023-ORD-012 - W trakcie realizacji - Koszulka polo, spodnie dresowe, trampki 2023-ORD-013 - Anulowane - Bluzka z falbankami, spódnica mini, baleriny 2023-ORD-014 - Zakończone - Płaszcz wełniany, szalik, botki 2023-ORD-015 - W trakcie realizacji - Kurtka bomberka, jeansy, adidasy 2023-ORD-016 - Zakończone - Garnitur, koszula w paski, pasek skórzany 2023-ORD-017 - Złożone - Bluzka z dekoltem, spodnie rurki, buty na obcasie 2023-ORD-018 - W trakcie realizacji - Dres sportowy, t-shirt z nadrukiem, sneakersy 2023-ORD-019 - Zakończone - Kurtka puchowa, szalik, buty trekkingowe 2023-ORD-020 - Anulowane - Sukienka w kwiaty, sandały na obcasie, kopertówka 2023-ORD-021 - Złożone - Kurtka skórzana, koszulka basic, spodnie chino 2023-ORD-022 - W trakcie realizacji - Kurtka parka, bluza z kapturem, jeansy 2023-ORD-023 - Anulowane - T-shirt z nadrukiem, spodenki sportowe, buty treningowe 2023-ORD-024 - Zakończone - Sukienka letnia, sandały, torebka plecakowa 2023-ORD-025 - Złożone - Kurtka skórzana, koszula jeansowa, spodnie białe 2023-ORD-026 - W trakcie realizacji - Sweter z golfem, spodnie dresowe, trampki 2023-ORD-027 - Zakończone - Koszula w paski, spodnie khaki, buty brogsy 2023-ORD-028 - Złożone - Kamizelka sportowa, spodnie zimowe, buty narciarskie 2023-ORD-029 - W trakcie realizacji - T-shirt basic, spodnie dresowe, adidasy 2023-ORD-030 - Anulowane - Bluza z kapturem, legginsy, trampki 2023-ORD-031 - Zakończone - Kurtka zimowa, czapka zimowa, rękawiczki 2023-ORD-032 - W trakcie realizacji - T-shirt z nadrukiem, jeansy, trampki 2023-ORD-033 - Anulowane - Koszula w kratę, spodnie chino, pasek skórzany 2023-ORD-034 - Zakończone - Sweter z wełny, spodnie dresowe, buty sportowe 2023-ORD-035 - W trakcie realizacji - Bluza z kapturem, legginsy, sneakersy 2023-ORD-036 - Zakończone - Marynarka, koszula biała, spodnie garniturowe 2023-ORD-037 - Złożone - Kombinezon z dżinsu, klapki, plecak 2023-ORD-038 - W trakcie realizacji - Kurtka skórzana, t-shirt basic, spodnie jeansowe 2023-ORD-039 - Zakończone - Kamizelka sportowa, buty treningowe, spodnie dresowe 2023-ORD-040 - Anulowane - Sukienka w kwiaty, sandały, torebka skórzana 2023-ORD-041 - Złożone - Kardigan, t-shirt, szorty\n"
     ]
    }
   ],
   "source": [
    "with open('orders.txt', 'r', encoding=\"utf-8\") as file:\n",
    "    orders = file.read().replace('\\n', ' ')\n",
    "print(orders)"
   ],
   "metadata": {
    "collapsed": false
   }
  },
  {
   "cell_type": "code",
   "execution_count": 11,
   "outputs": [
    {
     "data": {
      "text/plain": "{'score': 0.46872636675834656, 'start': 53, 'end': 60, 'answer': 'Andrzej'}"
     },
     "execution_count": 11,
     "metadata": {},
     "output_type": "execute_result"
    }
   ],
   "source": [
    "getAnswer(\"ojciec Janka ma na imię Kuba, a tata Kuby nazywa się Andrzej.\", \"Jak nazywa się tata taty Janka?\", only_ans=False)"
   ],
   "metadata": {
    "collapsed": false
   }
  },
  {
   "cell_type": "code",
   "execution_count": 35,
   "outputs": [
    {
     "data": {
      "text/plain": "{'score': 0.00603965949267149, 'start': 349, 'end': 356, 'answer': 'Reebook'}"
     },
     "execution_count": 35,
     "metadata": {},
     "output_type": "execute_result"
    }
   ],
   "source": [
    "getAnswer(context=data, query=\"czerwone buty?\", only_ans=False)"
   ],
   "metadata": {
    "collapsed": false
   }
  },
  {
   "cell_type": "code",
   "execution_count": 40,
   "outputs": [
    {
     "data": {
      "text/plain": "{'score': 3.833120354101993e-05,\n 'start': 210,\n 'end': 233,\n 'answer': 'Czerwone botki skórzane'}"
     },
     "execution_count": 40,
     "metadata": {},
     "output_type": "execute_result"
    }
   ],
   "source": [
    "getAnswer(context=data, query=\"szukam czerwone botki\", only_ans=False)"
   ],
   "metadata": {
    "collapsed": false
   }
  },
  {
   "cell_type": "code",
   "execution_count": null,
   "outputs": [],
   "source": [],
   "metadata": {
    "collapsed": false
   }
  },
  {
   "cell_type": "code",
   "execution_count": 12,
   "outputs": [
    {
     "data": {
      "text/plain": "{'score': 0.17885731160640717,\n 'start': 728,\n 'end': 760,\n 'answer': 'Czerwone botki skórzane, damskie'}"
     },
     "execution_count": 12,
     "metadata": {},
     "output_type": "execute_result"
    }
   ],
   "source": [
    "getAnswer(context=data, query=\"Czy posiadacie w swojej ofercie skórzane botki damskie?\", only_ans=False)"
   ],
   "metadata": {
    "collapsed": false
   }
  },
  {
   "cell_type": "code",
   "execution_count": 42,
   "outputs": [
    {
     "data": {
      "text/plain": "{'score': 0.008379863575100899, 'start': 240, 'end': 247, 'answer': '339 PLN'}"
     },
     "execution_count": 42,
     "metadata": {},
     "output_type": "execute_result"
    }
   ],
   "source": [
    "getAnswer(context=data, query=\"czerwone botki cena\", only_ans=False)"
   ],
   "metadata": {
    "collapsed": false
   }
  },
  {
   "cell_type": "code",
   "execution_count": 13,
   "outputs": [],
   "source": [
    "import openai\n",
    "\n",
    "# load and set our key\n",
    "openai.api_key = open(\"../key.txt\", \"r\").read().strip(\"\\n\")"
   ],
   "metadata": {
    "collapsed": false
   }
  },
  {
   "cell_type": "code",
   "execution_count": 14,
   "outputs": [],
   "source": [
    "class ChatWithGPT:\n",
    "    def __init__(self):\n",
    "        self.message_log = []\n",
    "        # tutaj dodac wiadomosc aby chatgpt wczul sie w role wirtualnego asystenta na stronie ecommerce\n",
    "\n",
    "    def format_query(self, question):\n",
    "        return question.replace('\"', '')\n",
    "\n",
    "    def ask_chat_gpt(self, question):\n",
    "        try:\n",
    "            question = self.format_query(question)\n",
    "        except:\n",
    "            return \"Please enter valid question\"\n",
    "        self.message_log.append({\"role\": \"user\", \"content\": f\"{question}\"})\n",
    "        try:\n",
    "            completion = openai.ChatCompletion.create(\n",
    "            model=\"gpt-3.5-turbo\", # this is \"ChatGPT\" $0.002 per 1k tokens\n",
    "            messages=self.message_log\n",
    "            )\n",
    "        except:\n",
    "            return \"Unfortunately Chatgpt is unavailable right now :(\"\n",
    "\n",
    "        assistant_reply = completion.choices[0].message.content\n",
    "        self.message_log.append({\"role\": \"assistant\", \"content\": f\"{assistant_reply}\"})\n",
    "\n",
    "        return assistant_reply"
   ],
   "metadata": {
    "collapsed": false
   }
  },
  {
   "cell_type": "code",
   "execution_count": 29,
   "outputs": [],
   "source": [
    "test = ChatWithGPT()\n",
    "query = input()\n",
    "ans1 = test.ask_chat_gpt(query)"
   ],
   "metadata": {
    "collapsed": false
   }
  },
  {
   "cell_type": "code",
   "execution_count": 31,
   "outputs": [],
   "source": [
    "ans1"
   ],
   "metadata": {
    "collapsed": false
   }
  },
  {
   "cell_type": "code",
   "execution_count": 33,
   "outputs": [],
   "source": [
    "print(test.message_log)"
   ],
   "metadata": {
    "collapsed": false
   }
  },
  {
   "cell_type": "code",
   "execution_count": 15,
   "outputs": [],
   "source": [
    "session = ChatWithGPT()\n",
    "query = \"odpowiedz na pytanie 'Jaki jest status mojego zamówienia nr 885245?' pełnym zdaniem, gdzie odpowiedzią jest 'wysłana'.\"\n",
    "ans = session.ask_chat_gpt(query)\n",
    "\n",
    "\n",
    "# \"odpowiedz na pytanie 'Jaki jest status mojego zamówienia nr 345245?' pełnym zdaniem, gdzie odpowiedzią jest 'wysłana'.\"\n",
    "# \"Answer for a question in polish: 'Jaki jest status mojego zamówienia nr 345245?' in full sentence, where answer is: 'wysłana'.\""
   ],
   "metadata": {
    "collapsed": false
   }
  },
  {
   "cell_type": "code",
   "execution_count": 16,
   "outputs": [
    {
     "name": "stdout",
     "output_type": "stream",
     "text": [
      "Twoje zamówienie nr 885245 zostało już wysłane.\n"
     ]
    }
   ],
   "source": [
    "print(ans)"
   ],
   "metadata": {
    "collapsed": false
   }
  },
  {
   "cell_type": "code",
   "execution_count": 17,
   "outputs": [],
   "source": [
    "query=\"Czy posiadacie w swojej ofercie skórzane botki damskie?\"\n",
    "answer = getAnswer(context=data, query=query, only_ans=True)\n",
    "session = ChatWithGPT()\n",
    "queryGpt = f\"odpowiedz na pytanie '{query}' pełnym zdaniem, gdzie odpowiedzią jest '{answer}'.\"\n",
    "ans = session.ask_chat_gpt(queryGpt)"
   ],
   "metadata": {
    "collapsed": false
   }
  },
  {
   "cell_type": "code",
   "execution_count": 18,
   "outputs": [
    {
     "name": "stdout",
     "output_type": "stream",
     "text": [
      "Tak, posiadamy w swojej ofercie Czerwone botki skórzane, damskie.\n"
     ]
    }
   ],
   "source": [
    "print(ans)"
   ],
   "metadata": {
    "collapsed": false
   }
  },
  {
   "cell_type": "code",
   "execution_count": 19,
   "outputs": [
    {
     "name": "stdout",
     "output_type": "stream",
     "text": [
      "odpowiedz na pytanie Czy posiadacie w swojej ofercie skórzane botki damskie? pełnym zdaniem, gdzie odpowiedzią jest 'Czerwone botki skórzane, damskie'.\n"
     ]
    }
   ],
   "source": [
    "print(queryGpt)"
   ],
   "metadata": {
    "collapsed": false
   }
  },
  {
   "cell_type": "code",
   "execution_count": 20,
   "outputs": [],
   "source": [
    "query=\"Szukam czarnych butów nike.\"\n",
    "answer = getAnswer(context=data, query=query, only_ans=True)\n",
    "session = ChatWithGPT()\n",
    "queryGpt = f\"odpowiedz na pytanie {query} pełnym zdaniem, gdzie odpowiedzią jest '{answer}'.\"\n",
    "ans = session.ask_chat_gpt(queryGpt)"
   ],
   "metadata": {
    "collapsed": false
   }
  },
  {
   "cell_type": "code",
   "execution_count": 21,
   "outputs": [
    {
     "data": {
      "text/plain": "'\"Polecam ci szukać czarnych butów Nike, ponieważ są one świetną opcją dla osób poszukujących eleganckich i uniwersalnych butów sportowych.\" - Czarne buty Nike.'"
     },
     "execution_count": 21,
     "metadata": {},
     "output_type": "execute_result"
    }
   ],
   "source": [
    "ans"
   ],
   "metadata": {
    "collapsed": false
   }
  },
  {
   "cell_type": "code",
   "execution_count": 28,
   "outputs": [
    {
     "data": {
      "text/plain": "'Zakończone'"
     },
     "execution_count": 28,
     "metadata": {},
     "output_type": "execute_result"
    }
   ],
   "source": [
    "getAnswer(context=orders, query=\"Jaki jest status zamówienia 2023-ORD-009?\", only_ans=True)"
   ],
   "metadata": {
    "collapsed": false
   }
  },
  {
   "cell_type": "code",
   "execution_count": 34,
   "outputs": [],
   "source": [
    "query=\"Jaki jest status zamówienia o numerze 2023-ORD-009?\"\n",
    "answer = getAnswer(context=orders, query=query, only_ans=True)\n",
    "session = ChatWithGPT()\n",
    "queryGpt = f\"Jesteś wirtualnym asystentem na stronie ecommerce. Odpowiedz w odpowiedniej formie tak jak asystent na pytanie {query} pełnym zdaniem, gdzie odpowiedzią jest '{answer}'.\"\n",
    "ans = session.ask_chat_gpt(queryGpt)"
   ],
   "metadata": {
    "collapsed": false
   }
  },
  {
   "cell_type": "code",
   "execution_count": 35,
   "outputs": [
    {
     "data": {
      "text/plain": "'Status zamówienia o numerze 2023-ORD-009 jest zakończone.'"
     },
     "execution_count": 35,
     "metadata": {},
     "output_type": "execute_result"
    }
   ],
   "source": [
    "ans"
   ],
   "metadata": {
    "collapsed": false
   }
  },
  {
   "cell_type": "markdown",
   "source": [
    "https://platform.openai.com/docs/tutorials/web-qa-embeddings\n",
    "# web scraper"
   ],
   "metadata": {
    "collapsed": false
   }
  },
  {
   "cell_type": "code",
   "execution_count": null,
   "outputs": [],
   "source": [],
   "metadata": {
    "collapsed": false
   }
  }
 ],
 "metadata": {
  "kernelspec": {
   "display_name": "Python 3",
   "language": "python",
   "name": "python3"
  },
  "language_info": {
   "codemirror_mode": {
    "name": "ipython",
    "version": 2
   },
   "file_extension": ".py",
   "mimetype": "text/x-python",
   "name": "python",
   "nbconvert_exporter": "python",
   "pygments_lexer": "ipython2",
   "version": "2.7.6"
  }
 },
 "nbformat": 4,
 "nbformat_minor": 0
}
